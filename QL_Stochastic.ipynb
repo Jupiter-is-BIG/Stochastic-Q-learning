{
 "cells": [
  {
   "cell_type": "markdown",
   "metadata": {},
   "source": [
    "# Q Learning in Stochastic Enviornment\n",
    "\n",
    "The Bellman's equation utilizes the Markov Decision Process in a Stochastic enviornment to get\n",
    "\n",
    "$$\n",
    "\\mathcal Q_{t+1}(s,a) = \\mathcal Q_t(s,a) + \\alpha\\cdot\\left(\\mathbb E[\\mathscr R(s,a)] - \\mathcal Q_t(s,a) + \\gamma\\sum_{s'}\\mathcal P_{s,a}(s')\\max_{a'}\\mathcal Q_t(s',a')\\right)\n",
    "$$\n",
    "where \n",
    "$$\n",
    "E[\\mathscr R(s,a)] = \\sum_{s'}\\mathcal P_{s,a}(s')\\mathscr R_{s'}\n",
    "$$\n",
    "Notice that $\\mathscr R_{s'}$ does not depend on from where the bot came from because in this simulated enviornment, that information is slightly irrelevant."
   ]
  },
  {
   "cell_type": "markdown",
   "metadata": {},
   "source": [
    "## Enviornment\n",
    "We use the idea of enviornment from  **Frozen Lake** by OpenAI gym.\n",
    "\n",
    "| S | F | F | F |\n",
    "| -- | -- | -- | -- |\n",
    "| F | H | F | H |\n",
    "| F | F | F | H |\n",
    "| H | F | F | G |"
   ]
  },
  {
   "cell_type": "code",
   "execution_count": 400,
   "metadata": {},
   "outputs": [],
   "source": [
    "# imports\n",
    "import numpy as np\n",
    "import matplotlib.pyplot as plt"
   ]
  },
  {
   "cell_type": "code",
   "execution_count": 401,
   "metadata": {},
   "outputs": [],
   "source": [
    "# Actions in the enviornment\n",
    "class Actions:\n",
    "    def __init__(self, stochastic, rewards, env, states):\n",
    "        self.stochastic = stochastic\n",
    "        self.rewards = rewards\n",
    "        self.env = env\n",
    "        self.states = states\n",
    "\n",
    "    def up(s):\n",
    "        return (s[0]-1,s[1])\n",
    "    def down(s):\n",
    "        return (s[0]+1,s[1])\n",
    "    def left(s):\n",
    "        return (s[0],s[1]-1)\n",
    "    def right(s):\n",
    "        return (s[0],s[1]+1)\n",
    "    \n",
    "    actions = [up, down, left, right]\n",
    "\n",
    "    def move(self, s, idx):\n",
    "        return Actions.actions[np.random.choice(4, p=self.stochastic[idx])](s)\n",
    "\n",
    "    def getRewards(self, s, idx):\n",
    "        reward = 0\n",
    "        for i in range(4):\n",
    "            if self.stochastic[idx][i] == 0:\n",
    "                continue\n",
    "            next_state = Actions.actions[i](s)\n",
    "            r_s = 0\n",
    "            if self.states.inBounds(next_state):\n",
    "                r_s = self.rewards[self.env[next_state[0]][next_state[1]]]\n",
    "            else:\n",
    "                r_s = -1\n",
    "            reward += self.stochastic[idx][i]*r_s\n",
    "        return reward"
   ]
  },
  {
   "cell_type": "code",
   "execution_count": 402,
   "metadata": {},
   "outputs": [],
   "source": [
    "# States in the enviornment\n",
    "class States:\n",
    "    def __init__(self, w, h):\n",
    "        self.w = w\n",
    "        self.h = h\n",
    "        self.goal = (w - 1, h - 1)\n",
    "\n",
    "    def getStates(self):\n",
    "        states = []\n",
    "        for i in range(self.w):\n",
    "            for j in range(self.h):\n",
    "                states.append((i,j))\n",
    "        return states\n",
    "    \n",
    "    def inBounds(self,s):\n",
    "        if min(s) < 0 or s[0] >= self.w or s[1] >= self.h:\n",
    "            return False\n",
    "        else:\n",
    "            return True"
   ]
  },
  {
   "cell_type": "code",
   "execution_count": 403,
   "metadata": {},
   "outputs": [],
   "source": [
    "class Q_Agent:\n",
    "    def __init__(self, env, actions: Actions, states_class: States, discount=0.95, lr=0.3, start=(0,0), eps_decay = 0.99, eps_min = 0.1):\n",
    "        self.env = env\n",
    "        self.actions = actions\n",
    "        self.states_class = states_class\n",
    "        self.states = self.states_class.getStates()\n",
    "        self.start = start\n",
    "        self.end = self.states_class.goal\n",
    "        self.eps_min = eps_min\n",
    "        self.eps_decay = eps_decay\n",
    "\n",
    "        self.discount = discount\n",
    "        self.lr = lr\n",
    "\n",
    "        self.q = {}\n",
    "        for state in self.states:\n",
    "            self.q[state] = [-1]*4\n",
    "\n",
    "    def train(self, episodes = 1000):\n",
    "        rewards_collected = []\n",
    "        eps = 1\n",
    "        for episode in range(episodes):\n",
    "            reward = 0\n",
    "            cur = (0,0)\n",
    "            next = None\n",
    "            max_steps = 10000\n",
    "            step_num = 0\n",
    "            while cur != self.end and step_num < max_steps:\n",
    "                step_num+=1\n",
    "                action = 0\n",
    "                if np.random.rand() < eps:\n",
    "                    action = np.random.randint(0,4)\n",
    "                else:\n",
    "                    action = self.q[cur].index(max(self.q[cur]))\n",
    "                next = self.actions.move(cur, action)\n",
    "                if not self.states_class.inBounds(next):\n",
    "                    continue\n",
    "                markov_sum = 0\n",
    "                for i in range(4):\n",
    "                    prob = self.actions.stochastic[action][i]\n",
    "                    if prob == 0:\n",
    "                        continue\n",
    "                    pos_next = self.actions.actions[i](cur)\n",
    "                    if self.states_class.inBounds(pos_next):\n",
    "                        val = max(self.q[pos_next])\n",
    "                    else:\n",
    "                        val = -1\n",
    "                    markov_sum += prob * val\n",
    "                temporal_diff = self.actions.getRewards(cur,action) - self.q[cur][action] + self.discount * markov_sum\n",
    "                self.q[cur][action] += self.lr * temporal_diff\n",
    "                reward += self.actions.rewards[self.env[next[0]][next[1]]]\n",
    "                cur = next\n",
    "            rewards_collected.append(reward)\n",
    "            if episode % 70 == 0:\n",
    "                print(f\"Episode {episode}, rewards collected : {reward}\")\n",
    "            eps = max(self.eps_min, self.eps_decay*eps)\n",
    "        return rewards_collected\n",
    "    \n",
    "    def solve(self):\n",
    "        cur = self.start\n",
    "        route = [cur]\n",
    "        \n",
    "        while cur != self.end:\n",
    "            cur = self.actions.move(cur, self.q[cur].index(max(self.q[cur])))\n",
    "            route.append(cur)\n",
    "\n",
    "\n",
    "        return route     "
   ]
  },
  {
   "cell_type": "code",
   "execution_count": 404,
   "metadata": {},
   "outputs": [],
   "source": [
    "# enviornment\n",
    "# env = [\n",
    "#     \"SFFF\",\n",
    "#     \"FFFH\",\n",
    "#     \"FFFH\",\n",
    "#     \"HFFG\",\n",
    "# ]\n",
    "env = [\n",
    "    \"SFFFFFFFH\",\n",
    "    \"FFHHHHHFH\",\n",
    "    \"FFHFFFFFH\",\n",
    "    \"FFHFFHFFH\",\n",
    "    \"FFHFFHFFH\",\n",
    "    \"FFFFFHFFG\",\n",
    "]\n",
    "\n",
    "\n",
    "# Deterministic and Stochastic behavior\n",
    "deterministic = [\n",
    "    [1, 0, 0, 0], # up\n",
    "    [0, 1, 0, 0], # down\n",
    "    [0, 0, 1, 0], # left\n",
    "    [0, 0, 0, 1] # right\n",
    "]\n",
    "\n",
    "stochastic = [\n",
    "    [1, 0, 0, 0], # up\n",
    "    [0, 0.9, 0, 0.1], # down\n",
    "    [0, 0, 1, 0], # left\n",
    "    [0, 0, 0, 1] # right\n",
    "]\n",
    "\n",
    "# Reward Policy\n",
    "rewards = {\n",
    "    \"S\": -0.04,\n",
    "    \"F\": -0.04,\n",
    "    \"H\": -10,\n",
    "    \"G\": 1\n",
    "}\n",
    "\n"
   ]
  },
  {
   "cell_type": "markdown",
   "metadata": {},
   "source": [
    "| S | F | F | F |\n",
    "| -- | -- | -- | -- |\n",
    "| F | H | F | H |\n",
    "| F | F | F | H |\n",
    "| H | F | F | G |"
   ]
  },
  {
   "cell_type": "markdown",
   "metadata": {},
   "source": [
    "| S | F | F | F | F | F | F | F | H |\n",
    "| -- | -- | -- | -- | -- | -- | -- | -- | -- |\n",
    "| F | F | H | H | H | H | H | F | H |\n",
    "| F | F | H | F | F | F | F | F | H |\n",
    "| F | F | H | F | F | H | F | F | H |\n",
    "| F | F | H | F | F | H | F | F | H |\n",
    "| F | F | F | F | F | H | F | F | G |\n"
   ]
  },
  {
   "cell_type": "markdown",
   "metadata": {},
   "source": [
    "| 0 0 | 0 1 | 0 2 | 0 3 |\n",
    "| -- | -- | -- | -- |\n",
    "| 1 0 | 1 1 | 1 2 | (1 3) |\n",
    "| 2 0 | 2 1 | 2 2 | (2 3) |\n",
    "| (3 0) | 3 1 | 3 2 | 3 3 |"
   ]
  },
  {
   "cell_type": "code",
   "execution_count": 405,
   "metadata": {},
   "outputs": [
    {
     "name": "stdout",
     "output_type": "stream",
     "text": [
      "Episode 0, rewards collected : -1724.1599999999903\n",
      "Episode 70, rewards collected : -40.11999999999999\n",
      "Episode 140, rewards collected : -445.7200000000007\n",
      "Episode 210, rewards collected : -221.8000000000001\n",
      "Episode 280, rewards collected : -91.92000000000012\n",
      "Episode 350, rewards collected : -49.999999999999986\n",
      "Episode 420, rewards collected : -161.63999999999993\n",
      "Episode 490, rewards collected : -40.67999999999998\n",
      "Episode 560, rewards collected : -19.87999999999999\n",
      "Episode 630, rewards collected : -90.08000000000003\n",
      "Episode 700, rewards collected : -29.839999999999986\n",
      "Episode 770, rewards collected : -19.479999999999993\n",
      "Episode 840, rewards collected : -39.79999999999998\n",
      "Episode 910, rewards collected : -19.719999999999985\n",
      "Episode 980, rewards collected : -29.839999999999982\n",
      "[(0, 0), (0, 1), (0, 2), (0, 3), (0, 4), (0, 5), (0, 6), (0, 7), (1, 7), (2, 7), (3, 7), (4, 7), (5, 7), (5, 8)]\n",
      "0.52\n",
      "9\n"
     ]
    },
    {
     "data": {
      "image/png": "[encoded data removed]",
      "text/plain": [
       "<Figure size 640x480 with 1 Axes>"
      ]
     },
     "metadata": {},
     "output_type": "display_data"
    }
   ],
   "source": [
    "states_1 = States(len(env), len(env[0]))\n",
    "action_1 = Actions(stochastic=deterministic, rewards=rewards, env=env, states=states_1)\n",
    "model_1 = Q_Agent(env=env,actions=action_1,states_class=states_1,eps_decay=0.999,start=(0,0))\n",
    "x = model_1.train()\n",
    "print(model_1.solve())\n",
    "plt.plot(x)\n",
    "print(max(x))\n",
    "print(x.count(max(x)))"
   ]
  },
  {
   "cell_type": "code",
   "execution_count": 406,
   "metadata": {},
   "outputs": [
    {
     "name": "stdout",
     "output_type": "stream",
     "text": [
      "(0, 0) : [-100, -38, -100, -34]\n",
      "(0, 1) : [-100, -36, -36, -31]\n",
      "(0, 2) : [-100, -1030, -34, -29]\n",
      "(0, 3) : [-100, -1022, -31, -26]\n",
      "(0, 4) : [-100, -1019, -29, -23]\n",
      "(0, 5) : [-100, -1016, -26, -20]\n",
      "(0, 6) : [-100, -1013, -23, -17]\n",
      "(0, 7) : [-100, -14, -20, -1016]\n",
      "(0, 8) : [-100, -1013, -17, -100]\n",
      "(1, 0) : [-36, -40, -100, -36]\n",
      "(1, 1) : [-34, -38, -38, -1030]\n",
      "(1, 2) : [-31, -1022, -36, -1022]\n",
      "(1, 3) : [-29, -23, -1030, -1019]\n",
      "(1, 4) : [-26, -20, -1022, -1016]\n",
      "(1, 5) : [-23, -17, -1019, -1013]\n",
      "(1, 6) : [-20, -14, -1016, -14]\n",
      "(1, 7) : [-17, -10, -1013, -1013]\n",
      "(1, 8) : [-1016, -1010, -14, -100]\n",
      "(2, 0) : [-38, -42, -100, -38]\n",
      "(2, 1) : [-36, -40, -40, -1022]\n",
      "(2, 2) : [-1030, -1025, -38, -23]\n",
      "(2, 3) : [-1022, -26, -1022, -20]\n",
      "(2, 4) : [-1019, -23, -23, -17]\n",
      "(2, 5) : [-1016, -1010, -20, -14]\n",
      "(2, 6) : [-1013, -10, -17, -10]\n",
      "(2, 7) : [-14, -7, -14, -1010]\n",
      "(2, 8) : [-1013, -1006, -10, -100]\n",
      "(3, 0) : [-40, -40, -100, -40]\n",
      "(3, 1) : [-38, -38, -42, -1025]\n",
      "(3, 2) : [-1022, -1027, -40, -26]\n",
      "(3, 3) : [-23, -29, -1025, -23]\n",
      "(3, 4) : [-20, -26, -26, -1010]\n",
      "(3, 5) : [-17, -1006, -23, -10]\n",
      "(3, 6) : [-14, -7, -1010, -7]\n",
      "(3, 7) : [-10, -3, -10, -1006]\n",
      "(3, 8) : [-1010, -995, -7, -100]\n",
      "(4, 0) : [-42, -38, -100, -38]\n",
      "(4, 1) : [-40, -36, -40, -1027]\n",
      "(4, 2) : [-1025, -34, -38, -29]\n",
      "(4, 3) : [-26, -31, -1027, -26]\n",
      "(4, 4) : [-23, -29, -29, -1006]\n",
      "(4, 5) : [-1010, -1003, -26, -7]\n",
      "(4, 6) : [-10, -3, -1006, -3]\n",
      "(4, 7) : [-7, 0, -7, -995]\n",
      "(4, 8) : [-1006, 5, -3, -100]\n",
      "(5, 0) : [-40, -100, -100, -36]\n",
      "(5, 1) : [-38, -100, -38, -34]\n",
      "(5, 2) : [-1027, -100, -36, -31]\n",
      "(5, 3) : [-29, -100, -34, -29]\n",
      "(5, 4) : [-26, -100, -31, -1003]\n",
      "(5, 5) : [-1006, -100, -29, -3]\n",
      "(5, 6) : [-7, -100, -1003, 0]\n",
      "(5, 7) : [-3, -100, -3, 5]\n",
      "(5, 8) : [-100, -100, -100, -100]\n"
     ]
    }
   ],
   "source": [
    "for i in model_1.q:\n",
    "    l = []\n",
    "    for k in model_1.q[i]:\n",
    "        l.append(int(k*100))\n",
    "    print(f\"{i} : {l}\")"
   ]
  },
  {
   "cell_type": "code",
   "execution_count": 407,
   "metadata": {},
   "outputs": [
    {
     "name": "stdout",
     "output_type": "stream",
     "text": [
      "Episode 0, rewards collected : -1298.319999999996\n",
      "Episode 70, rewards collected : -321.9600000000003\n",
      "Episode 140, rewards collected : -446.04000000000127\n",
      "Episode 210, rewards collected : -904.3999999999971\n",
      "Episode 280, rewards collected : -321.3200000000001\n",
      "Episode 350, rewards collected : -110.32000000000006\n",
      "Episode 420, rewards collected : -317.9999999999997\n",
      "Episode 490, rewards collected : -40.67999999999998\n",
      "Episode 560, rewards collected : -30.719999999999978\n",
      "Episode 630, rewards collected : -30.07999999999998\n",
      "Episode 700, rewards collected : -72.56000000000017\n",
      "Episode 770, rewards collected : -40.27999999999999\n",
      "Episode 840, rewards collected : -0.04000000000000026\n",
      "Episode 910, rewards collected : -40.599999999999966\n",
      "Episode 980, rewards collected : -0.6000000000000008\n",
      "[(0, 0), (1, 0), (2, 0), (3, 0), (4, 0), (5, 0), (5, 1), (5, 2), (5, 3), (4, 3), (3, 3), (2, 3), (2, 4), (2, 5), (2, 6), (2, 7), (2, 6), (3, 6), (4, 6), (5, 6), (5, 7), (5, 8)]\n",
      "0.19999999999999984\n",
      "1\n"
     ]
    },
    {
     "data": {
      "image/png": "[encoded data removed]",
      "text/plain": [
       "<Figure size 640x480 with 1 Axes>"
      ]
     },
     "metadata": {},
     "output_type": "display_data"
    }
   ],
   "source": [
    "states_2 = States(len(env), len(env[0]))\n",
    "action_2 = Actions(stochastic=stochastic, rewards=rewards, env=env, states=states_2)\n",
    "model_2 = Q_Agent(env=env,actions=action_2,states_class=states_2, eps_decay=0.999, lr=0.1,start=(0,0))\n",
    "x = model_2.train()\n",
    "print(model_2.solve())\n",
    "plt.plot(x)\n",
    "print(max(x))\n",
    "print(x.count(max(x)))"
   ]
  },
  {
   "cell_type": "markdown",
   "metadata": {},
   "source": [
    "| 0 0 | 0 1 | 0 2 | 0 3 | 0 4 | 0 5 | 0 6 | 0 7 | (0 8) |\n",
    "| ---- | ---- | ---- | ---- | ---- | ---- | ---- | ---- | ---- |\n",
    "| 1 0 | 1 1 | (1 2) | (1 3) | (1 4) | (1 5) | (1 6) | 1 7 | (1 8) |\n",
    "| 2 0 | 2 1 | (2 2) | 2 3 | 2 4 | 2 5 | 2 6 | 2 7 | (2 8) |\n",
    "| 3 0 | 3 1 | (3 2) | 3 3 | 3 4 | (3 5) | 3 6 | 3 7 | (3 8) |\n",
    "| 4 0 | 4 1 | (4 2) | 4 3 | 4 4 | (4 5) | 4 6 | 4 7 | (4 8) |\n",
    "| 5 0 | 5 1 | 5 2 | 5 3 | 5 4 | (5 5) | 5 6 | 5 7 | 5 8 |\n"
   ]
  },
  {
   "cell_type": "code",
   "execution_count": 408,
   "metadata": {},
   "outputs": [
    {
     "name": "stdout",
     "output_type": "stream",
     "text": [
      "(0, 0) : [-100, -49, -100, -52]\n",
      "(0, 1) : [-100, -50, -50, -53]\n",
      "(0, 2) : [-100, -948, -52, -54]\n",
      "(0, 3) : [-100, -952, -53, -56]\n",
      "(0, 4) : [-100, -953, -54, -57]\n",
      "(0, 5) : [-100, -954, -56, -58]\n",
      "(0, 6) : [-100, -924, -57, -59]\n",
      "(0, 7) : [-100, -163, -58, -1063]\n",
      "(0, 8) : [-100, -985, -61, -100]\n",
      "(1, 0) : [-50, -47, -100, -50]\n",
      "(1, 1) : [-52, -148, -48, -1047]\n",
      "(1, 2) : [-53, -1026, -50, -1052]\n",
      "(1, 3) : [-54, -128, -1047, -1053]\n",
      "(1, 4) : [-56, -125, -1052, -1054]\n",
      "(1, 5) : [-57, -119, -1053, -1019]\n",
      "(1, 6) : [-60, -20, -1055, -63]\n",
      "(1, 7) : [-59, -124, -1020, -1071]\n",
      "(1, 8) : [-1071, -936, -64, -100]\n",
      "(2, 0) : [-48, -44, -100, -48]\n",
      "(2, 1) : [-50, -144, -46, -1024]\n",
      "(2, 2) : [-1047, -926, -48, -25]\n",
      "(2, 3) : [-1052, -27, -1024, -22]\n",
      "(2, 4) : [-1053, -24, -25, -19]\n",
      "(2, 5) : [-1054, -912, -22, -16]\n",
      "(2, 6) : [-1019, -12, -19, -19]\n",
      "(2, 7) : [-61, -115, -16, -1018]\n",
      "(2, 8) : [-1070, -933, -19, -100]\n",
      "(3, 0) : [-46, -42, -100, -46]\n",
      "(3, 1) : [-48, -142, -44, -1026]\n",
      "(3, 2) : [-1024, -929, -46, -28]\n",
      "(3, 3) : [-25, -30, -1026, -25]\n",
      "(3, 4) : [-22, -126, -28, -1011]\n",
      "(3, 5) : [-19, -907, -25, -12]\n",
      "(3, 6) : [-16, -8, -1011, -15]\n",
      "(3, 7) : [-19, -111, -12, -1014]\n",
      "(3, 8) : [-1018, -929, -15, -100]\n",
      "(4, 0) : [-44, -40, -100, -44]\n",
      "(4, 1) : [-46, -136, -42, -1029]\n",
      "(4, 2) : [-1026, -35, -44, -30]\n",
      "(4, 3) : [-28, -32, -1029, -28]\n",
      "(4, 4) : [-25, -128, -30, -1007]\n",
      "(4, 5) : [-1011, -903, -28, -7]\n",
      "(4, 6) : [-12, -4, -1007, -11]\n",
      "(4, 7) : [-15, -100, -7, -1010]\n",
      "(4, 8) : [-1015, -15, -11, -100]\n",
      "(5, 0) : [-42, -175, -100, -37]\n",
      "(5, 1) : [-44, -175, -39, -35]\n",
      "(5, 2) : [-1029, -171, -37, -33]\n",
      "(5, 3) : [-30, -171, -35, -30]\n",
      "(5, 4) : [-28, -220, -33, -1003]\n",
      "(5, 5) : [-1007, -160, -30, -3]\n",
      "(5, 6) : [-7, -174, -1003, 0]\n",
      "(5, 7) : [-11, -171, -3, 4]\n",
      "(5, 8) : [-100, -100, -100, -100]\n"
     ]
    }
   ],
   "source": [
    "for i in model_2.q:\n",
    "    l = []\n",
    "    for k in model_2.q[i]:\n",
    "        l.append(int(k*100))\n",
    "    print(f\"{i} : {l}\")"
   ]
  },
  {
   "cell_type": "markdown",
   "metadata": {},
   "source": [
    "## Observations"
   ]
  },
  {
   "cell_type": "markdown",
   "metadata": {},
   "source": [
    "We notice that in a determinsitic world, the bot"
   ]
  }
 ],
 "metadata": {
  "kernelspec": {
   "display_name": ".venv",
   "language": "python",
   "name": "python3"
  },
  "language_info": {
   "codemirror_mode": {
    "name": "ipython",
    "version": 3
   },
   "file_extension": ".py",
   "mimetype": "text/x-python",
   "name": "python",
   "nbconvert_exporter": "python",
   "pygments_lexer": "ipython3",
   "version": "3.12.2"
  }
 },
 "nbformat": 4,
 "nbformat_minor": 2
}
