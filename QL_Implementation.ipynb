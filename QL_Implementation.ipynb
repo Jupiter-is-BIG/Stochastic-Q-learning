{
 "cells": [
  {
   "cell_type": "markdown",
   "metadata": {},
   "source": [
    "# Robot in a room\n",
    "We implement a determinsitic enviornment simulation for a robot in a room problem using basic $Q$ learning with the modified bellman equation given as\n",
    "$$\n",
    "Q_{t+1}(s,a) = Q_{t}(s,a) + \\alpha\\left(R(s,a) + \\gamma\\max_{a^{\\prime}}\\{Q_{t}(s',a')\\} - Q_{t}(s,a)\\right)\n",
    "$$\n",
    "where $a : s \\mapsto s'$."
   ]
  },
  {
   "cell_type": "code",
   "execution_count": 25,
   "metadata": {},
   "outputs": [
    {
     "name": "stdout",
     "output_type": "stream",
     "text": [
      "Requirement already satisfied: numpy in ./.venv/lib/python3.12/site-packages (1.26.4)\n",
      "Note: you may need to restart the kernel to use updated packages.\n"
     ]
    }
   ],
   "source": [
    "%pip install numpy\n",
    "import numpy as np"
   ]
  },
  {
   "cell_type": "markdown",
   "metadata": {},
   "source": [
    "This is how our enviornment looks\n",
    "\n",
    "|  C  | F | I | L |\n",
    "| -- | -- | -- | -- |\n",
    "| B | X (E) | H | K |\n",
    "| A | D | G | J |\n",
    "\n",
    "-\n",
    "\n",
    "|  (0,2)  |  (1,2)  | (2,2) | (3,2) |\n",
    "| -- | -- | -- | -- |\n",
    "| (0,1) | X | (2,1) | (3,1) |\n",
    "| (0,0) | (1,0) | (2,0) | (3,0) |\n"
   ]
  },
  {
   "cell_type": "markdown",
   "metadata": {},
   "source": [
    "## Stochasticity?\n",
    "$$\n",
    "Q_{t+1}(s,a) = Q_{t}(s,a) + \\alpha\\left(R(s,a) + \\gamma\\sum_{s^{\\prime}}P_{s,a}(s^{\\prime})\\max_{a^{\\prime}}\\{Q_{t}(s',a')\\} - Q_{t}(s,a)\\right)\n",
    "$$"
   ]
  },
  {
   "cell_type": "code",
   "execution_count": 26,
   "metadata": {},
   "outputs": [],
   "source": [
    "def down(a):\n",
    "    return (a[0],a[1] - 1)\n",
    "def left(a):\n",
    "    return (a[0] - 1,a[1])\n",
    "def right(a):\n",
    "    return (a[0] + 1,a[1])\n",
    "def up(a):\n",
    "    return (a[0],a[1] + 1)\n",
    "\n",
    "ACTIONS = [up, down, left, right]\n",
    "\n",
    "def valid_neighbours(a,w,h,blocks):\n",
    "    res = []\n",
    "    for act in range(len(ACTIONS)):\n",
    "        j = ACTIONS[act](a)\n",
    "        if j[0] < 0 or j[0] >= w or j[1] < 0 or j[1] >= h or j in blocks:\n",
    "            continue\n",
    "        res.append(j)\n",
    "    return res"
   ]
  },
  {
   "cell_type": "code",
   "execution_count": 48,
   "metadata": {},
   "outputs": [],
   "source": [
    "WIDTH = 4\n",
    "HEIGHT = 3\n",
    "WORST_REWARD = -999\n",
    "REWARD_TO_STAY = -0.1\n",
    "REWARD_TO_COMPLETE = 10\n",
    "\n",
    "STATES = []\n",
    "SYMBOL = {}\n",
    "symbol = 'A'\n",
    "\n",
    "BLOCKS = [(1,1)]\n",
    "\n",
    "\n",
    "for w in range(WIDTH):\n",
    "    for h in range(HEIGHT):\n",
    "        if (w,h) in BLOCKS:\n",
    "            symbol = chr(ord(symbol) + 1)\n",
    "            continue\n",
    "        STATES.append((w,h))\n",
    "        SYMBOL[(w,h)] = symbol\n",
    "        symbol = chr(ord(symbol) + 1)\n",
    "\n",
    "\n",
    "REWARDS = {}\n",
    "Q = {}\n",
    "for i in STATES:\n",
    "    REWARDS[i] = [WORST_REWARD]*4\n",
    "    Q[i] = [0]*4\n",
    "    for act in range(len(ACTIONS)):\n",
    "        j = ACTIONS[act](i)\n",
    "        if j[0] < 0 or j[0] >= WIDTH or j[1] < 0 or j[1] >= HEIGHT or j in BLOCKS:\n",
    "            continue\n",
    "        REWARDS[i][act] = REWARD_TO_STAY"
   ]
  },
  {
   "cell_type": "code",
   "execution_count": 49,
   "metadata": {},
   "outputs": [],
   "source": [
    "class RoomBot:\n",
    "    def __init__(self, states = STATES, q = Q, rewards = REWARDS, blocks = BLOCKS, width=WIDTH, height=HEIGHT, learning_rate=0.2, discount_rate=0.9):\n",
    "        # hyperparameters\n",
    "        self.learning_rate = learning_rate\n",
    "        self.discount_rate = discount_rate\n",
    "        \n",
    "        self.width = width\n",
    "        self.height = height\n",
    "        self.rewards = rewards\n",
    "        self.states = states\n",
    "        self.blocks = blocks\n",
    "        self.q = q\n",
    "        self.goal = None\n",
    "\n",
    "    def setPriority(self, dest, val=WORST_REWARD):\n",
    "        for act in range(len(ACTIONS)):\n",
    "            j = ACTIONS[act](dest)\n",
    "            if j[0] < 0 or j[0] >= self.width or j[1] < 0 or j[1] >= self.height or j in self.blocks:\n",
    "                continue\n",
    "            if act == 0 or act == 2:\n",
    "                self.rewards[j][act+1] = val\n",
    "            else:\n",
    "                self.rewards[j][act-1] = val\n",
    "\n",
    "    def train(self, goal, iterations = 100):\n",
    "        self.goal = goal\n",
    "\n",
    "        self.setPriority(goal, REWARD_TO_COMPLETE)\n",
    "\n",
    "        for episode in range(iterations):\n",
    "            if episode%10 == 0:\n",
    "                print(f\"Running episode {episode}\")\n",
    "            spawn_w = np.random.randint(0,self.width)\n",
    "            spwan_h = np.random.randint(0,self.height)\n",
    "            spawn = (spawn_w, spwan_h)\n",
    "            if spawn in self.blocks:\n",
    "                continue\n",
    "\n",
    "            while spawn != goal:\n",
    "                v_neighbour = valid_neighbours(spawn, self.width, self.height, self.blocks)\n",
    "                action = 0\n",
    "                if np.random.rand() < 0.4:\n",
    "                    action = np.random.randint(0, 4)\n",
    "                else:\n",
    "                    action = self.q[spawn].index(max(self.q[spawn]))\n",
    "            \n",
    "                next = ACTIONS[action](spawn)\n",
    "                if next not in v_neighbour:\n",
    "                    continue\n",
    "\n",
    "                temporal_difference = self.rewards[spawn][action] + self.discount_rate * max(self.q[next]) - self.q[spawn][action]\n",
    "                self.q[spawn][action] += self.learning_rate*temporal_difference\n",
    "                spawn = next\n",
    "    \n",
    "    def route(self, start):\n",
    "        if self.goal is None:\n",
    "            print(\"Please first train the model to learn about the enviorment with a goal\")\n",
    "            return\n",
    "        \n",
    "        path = [SYMBOL[start]]\n",
    "        while start != self.goal:\n",
    "            max_q = self.q[start][0]\n",
    "            next = ACTIONS[0](start)\n",
    "            for i in range(len(ACTIONS)):\n",
    "                if max_q < self.q[start][i]:\n",
    "                    max_q = self.q[start][i]\n",
    "                    next = ACTIONS[i](start)\n",
    "            start = next\n",
    "            path.append(SYMBOL[start])\n",
    "\n",
    "        return path"
   ]
  },
  {
   "cell_type": "code",
   "execution_count": 50,
   "metadata": {},
   "outputs": [],
   "source": [
    "test = RoomBot(discount_rate=0.9999)\n",
    "test.setPriority((2,1),0.1)\n",
    "# test.setPriority((2,1),0.3)\n",
    "test.setPriority((3,1))\n",
    "test.setPriority((2,0))\n",
    "\n",
    "# test.setPriority((3,0))\n",
    "\n"
   ]
  },
  {
   "cell_type": "code",
   "execution_count": 51,
   "metadata": {},
   "outputs": [
    {
     "name": "stdout",
     "output_type": "stream",
     "text": [
      "Running episode 0\n",
      "Running episode 10\n",
      "Running episode 20\n",
      "Running episode 30\n",
      "Running episode 40\n",
      "Running episode 50\n",
      "Running episode 60\n",
      "Running episode 70\n",
      "Running episode 80\n",
      "Running episode 90\n",
      "Running episode 100\n",
      "Running episode 110\n",
      "Running episode 120\n",
      "Running episode 130\n",
      "Running episode 140\n",
      "Running episode 150\n",
      "Running episode 160\n",
      "Running episode 170\n",
      "Running episode 180\n",
      "Running episode 190\n",
      "Running episode 200\n",
      "Running episode 210\n",
      "Running episode 220\n",
      "Running episode 230\n",
      "Running episode 240\n",
      "Running episode 250\n",
      "Running episode 260\n",
      "Running episode 270\n",
      "Running episode 280\n",
      "Running episode 290\n",
      "Running episode 300\n",
      "Running episode 310\n",
      "Running episode 320\n",
      "Running episode 330\n",
      "Running episode 340\n",
      "Running episode 350\n",
      "Running episode 360\n",
      "Running episode 370\n",
      "Running episode 380\n",
      "Running episode 390\n",
      "Running episode 400\n",
      "Running episode 410\n",
      "Running episode 420\n",
      "Running episode 430\n",
      "Running episode 440\n",
      "Running episode 450\n",
      "Running episode 460\n",
      "Running episode 470\n",
      "Running episode 480\n",
      "Running episode 490\n",
      "Running episode 500\n",
      "Running episode 510\n",
      "Running episode 520\n",
      "Running episode 530\n",
      "Running episode 540\n",
      "Running episode 550\n",
      "Running episode 560\n",
      "Running episode 570\n",
      "Running episode 580\n",
      "Running episode 590\n",
      "Running episode 600\n",
      "Running episode 610\n",
      "Running episode 620\n",
      "Running episode 630\n",
      "Running episode 640\n",
      "Running episode 650\n",
      "Running episode 660\n",
      "Running episode 670\n",
      "Running episode 680\n",
      "Running episode 690\n",
      "Running episode 700\n",
      "Running episode 710\n",
      "Running episode 720\n",
      "Running episode 730\n",
      "Running episode 740\n",
      "Running episode 750\n",
      "Running episode 760\n",
      "Running episode 770\n",
      "Running episode 780\n",
      "Running episode 790\n",
      "Running episode 800\n",
      "Running episode 810\n",
      "Running episode 820\n",
      "Running episode 830\n",
      "Running episode 840\n",
      "Running episode 850\n",
      "Running episode 860\n",
      "Running episode 870\n",
      "Running episode 880\n",
      "Running episode 890\n",
      "Running episode 900\n",
      "Running episode 910\n",
      "Running episode 920\n",
      "Running episode 930\n",
      "Running episode 940\n",
      "Running episode 950\n",
      "Running episode 960\n",
      "Running episode 970\n",
      "Running episode 980\n",
      "Running episode 990\n"
     ]
    }
   ],
   "source": [
    "test.train((3,2),iterations=1000)"
   ]
  },
  {
   "cell_type": "code",
   "execution_count": 52,
   "metadata": {},
   "outputs": [
    {
     "name": "stdout",
     "output_type": "stream",
     "text": [
      "['A', 'B', 'C', 'F', 'I', 'L']\n"
     ]
    }
   ],
   "source": [
    "print(test.route((0,0)))"
   ]
  },
  {
   "cell_type": "markdown",
   "metadata": {},
   "source": [
    "This is how our enviornment looks\n",
    "\n",
    "|  C  | F | I | L |\n",
    "| -- | -- | -- | -- |\n",
    "| B | X (E) | H | K |\n",
    "| A | D | G | J |\n",
    "\n",
    "-\n",
    "\n",
    "|  (0,2)  |  (1,2)  | (2,2) | (3,2) |\n",
    "| -- | -- | -- | -- |\n",
    "| (0,1) | X | (2,1) | (3,1) |\n",
    "| (0,0) | (1,0) | (2,0) | (3,0) |\n"
   ]
  },
  {
   "cell_type": "code",
   "execution_count": 46,
   "metadata": {},
   "outputs": [
    {
     "name": "stdout",
     "output_type": "stream",
     "text": [
      "A : [25.06385224650635, 0, 0, 22.80164282911937]\n",
      "B : [25.866429292365666, 21.221247969622805, 0, 0]\n",
      "C : [0, 24.1713978419022, 0, 26.2872902016783]\n",
      "D : [0, 0, 24.53579866659792, -974.2117007516008]\n",
      "F : [0, 0, 25.648148631694525, 26.566683912466818]\n",
      "G : [26.63405460562341, 0, 23.67110004287544, -0.05099999992259679]\n",
      "H : [26.628460550219106, -972.5580279777276, 0, -972.5949781549751]\n",
      "I : [0, 26.69876777463143, 26.390255133150603, 9.999999999999996]\n",
      "J : [-973.3937269470966, 0, -973.0669561157966, 0]\n",
      "K : [9.999999999999996, -0.05099999953864089, 26.59637430178506, 0]\n",
      "L : [0, 0, 0, 0]\n"
     ]
    }
   ],
   "source": [
    "x = test.q\n",
    "for y in x:\n",
    "    print(f\"{SYMBOL[y]} : {x[y]}\")"
   ]
  },
  {
   "cell_type": "code",
   "execution_count": 47,
   "metadata": {},
   "outputs": [
    {
     "name": "stdout",
     "output_type": "stream",
     "text": [
      "A : [-0.051, -999, -999, -0.051]\n",
      "B : [-0.051, -0.051, -999, -999]\n",
      "C : [-999, -0.051, -999, -0.051]\n",
      "D : [-999, -999, -0.051, -999]\n",
      "F : [-999, -999, -0.051, -0.051]\n",
      "G : [0.1, -999, -0.051, -0.051]\n",
      "H : [-0.051, -999, -999, -999]\n",
      "I : [-999, 0.1, -0.051, 10]\n",
      "J : [-999, -999, -999, -999]\n",
      "K : [10, -0.051, 0.1, -999]\n",
      "L : [-999, -999, -0.051, -999]\n"
     ]
    }
   ],
   "source": [
    "x = test.rewards\n",
    "for y in x:\n",
    "    print(f\"{SYMBOL[y]} : {x[y]}\")"
   ]
  }
 ],
 "metadata": {
  "kernelspec": {
   "display_name": "Python 3",
   "language": "python",
   "name": "python3"
  },
  "language_info": {
   "codemirror_mode": {
    "name": "ipython",
    "version": 3
   },
   "file_extension": ".py",
   "mimetype": "text/x-python",
   "name": "python",
   "nbconvert_exporter": "python",
   "pygments_lexer": "ipython3",
   "version": "3.12.2"
  }
 },
 "nbformat": 4,
 "nbformat_minor": 2
}
